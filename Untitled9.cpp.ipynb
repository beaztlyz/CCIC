{
 "cells": [
  {
   "cell_type": "code",
   "execution_count": 5,
   "id": "9bd12026",
   "metadata": {},
   "outputs": [
    {
     "ename": "NameError",
     "evalue": "name 'maximum' is not defined",
     "output_type": "error",
     "traceback": [
      "\u001b[1;31m---------------------------------------------------------------------------\u001b[0m",
      "\u001b[1;31mNameError\u001b[0m                                 Traceback (most recent call last)",
      "Input \u001b[1;32mIn [5]\u001b[0m, in \u001b[0;36m<cell line: 7>\u001b[1;34m()\u001b[0m\n\u001b[0;32m     10\u001b[0m \u001b[38;5;28;01mif\u001b[39;00m (temp \u001b[38;5;241m>\u001b[39m assign ):\n\u001b[0;32m     11\u001b[0m     temp\u001b[38;5;241m.\u001b[39minsert(container[x])\n\u001b[1;32m---> 12\u001b[0m replace \u001b[38;5;241m=\u001b[39m \u001b[43mmaximum\u001b[49m \u001b[38;5;241m<\u001b[39m maximum[x]\n\u001b[0;32m     14\u001b[0m \u001b[38;5;28mprint\u001b[39m(container)\n",
      "\u001b[1;31mNameError\u001b[0m: name 'maximum' is not defined"
     ]
    }
   ],
   "source": [
    "import random\n",
    "import tracemalloc \n",
    "tracemalloc.start()\n",
    "selectionSort = [22,5]\n",
    "container = []\n",
    "randomGenerator = random.randint(0,1000000)\n",
    "for i in range(0,10):\n",
    "    for j in range(0,10):\n",
    "        temp = selectionSort[-1]\n",
    "        assign = selectionSort[i]\n",
    "            if (temp > assign):\n",
    "            temp.insert(container[x])\n",
    "            replace = maximum[j] < maximum[x]\n",
    "    print(container)\n",
    "\n",
    "\n",
    "    #improvised function \n",
    "# selectionSort = [randomGenerator]\n",
    "\n",
    "#for i in range(0,10):\n",
    "   # temp = Selectionsort[-1]\n",
    "   # assign = Selectionsort[i]\n",
    "   # if (temp > assign ):\n",
    "     #   temp.insert(container[x]\n",
    "      #  temp == selectionsort[0]\n",
    "    \n",
    "    \n",
    "    \n",
    "    \n",
    "    \n"
   ]
  },
  {
   "cell_type": "code",
   "execution_count": null,
   "id": "6f1e0145",
   "metadata": {},
   "outputs": [],
   "source": []
  },
  {
   "cell_type": "code",
   "execution_count": null,
   "id": "47012274",
   "metadata": {},
   "outputs": [],
   "source": []
  },
  {
   "cell_type": "code",
   "execution_count": null,
   "id": "2118ce5d",
   "metadata": {},
   "outputs": [],
   "source": []
  },
  {
   "cell_type": "code",
   "execution_count": null,
   "id": "a9ca01e7",
   "metadata": {},
   "outputs": [],
   "source": []
  },
  {
   "cell_type": "code",
   "execution_count": null,
   "id": "5694ba76",
   "metadata": {},
   "outputs": [],
   "source": []
  },
  {
   "cell_type": "code",
   "execution_count": null,
   "id": "bdc36a59",
   "metadata": {},
   "outputs": [],
   "source": []
  },
  {
   "cell_type": "code",
   "execution_count": null,
   "id": "3370b5f6",
   "metadata": {},
   "outputs": [],
   "source": []
  },
  {
   "cell_type": "code",
   "execution_count": null,
   "id": "a2ec0f22",
   "metadata": {},
   "outputs": [],
   "source": []
  },
  {
   "cell_type": "code",
   "execution_count": null,
   "id": "4de163c0",
   "metadata": {},
   "outputs": [],
   "source": []
  },
  {
   "cell_type": "code",
   "execution_count": null,
   "id": "b3c447ca",
   "metadata": {},
   "outputs": [],
   "source": []
  },
  {
   "cell_type": "code",
   "execution_count": null,
   "id": "2d1724c3",
   "metadata": {},
   "outputs": [],
   "source": []
  },
  {
   "cell_type": "code",
   "execution_count": null,
   "id": "957d7082",
   "metadata": {},
   "outputs": [],
   "source": []
  }
 ],
 "metadata": {
  "kernelspec": {
   "display_name": "Python 3 (ipykernel)",
   "language": "python",
   "name": "python3"
  },
  "language_info": {
   "codemirror_mode": {
    "name": "ipython",
    "version": 3
   },
   "file_extension": ".py",
   "mimetype": "text/x-python",
   "name": "python",
   "nbconvert_exporter": "python",
   "pygments_lexer": "ipython3",
   "version": "3.9.12"
  }
 },
 "nbformat": 4,
 "nbformat_minor": 5
}
