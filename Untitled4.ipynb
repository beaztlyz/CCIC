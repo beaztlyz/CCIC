{
 "cells": [
  {
   "cell_type": "code",
   "execution_count": 16,
   "id": "21530477",
   "metadata": {},
   "outputs": [
    {
     "name": "stdout",
     "output_type": "stream",
     "text": [
      "your number10\n",
      "how long 2\n",
      "10\n"
     ]
    }
   ],
   "source": [
    "\n",
    "\n",
    "tensor = input(\"your number\")\n",
    "times = input(\"how long \")\n",
    "\n",
    "for number in times:\n",
    "    final = tensor + tensor \n",
    "    print(tensor)"
   ]
  },
  {
   "cell_type": "code",
   "execution_count": null,
   "id": "60f73fd2",
   "metadata": {},
   "outputs": [],
   "source": [
    "\n",
    "\n"
   ]
  }
 ],
 "metadata": {
  "kernelspec": {
   "display_name": "Python 3 (ipykernel)",
   "language": "python",
   "name": "python3"
  },
  "language_info": {
   "codemirror_mode": {
    "name": "ipython",
    "version": 3
   },
   "file_extension": ".py",
   "mimetype": "text/x-python",
   "name": "python",
   "nbconvert_exporter": "python",
   "pygments_lexer": "ipython3",
   "version": "3.9.12"
  }
 },
 "nbformat": 4,
 "nbformat_minor": 5
}
