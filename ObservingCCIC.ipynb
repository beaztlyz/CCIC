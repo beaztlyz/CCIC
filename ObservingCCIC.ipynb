{
 "cells": [
  {
   "cell_type": "code",
   "execution_count": 11,
   "id": "1b814a11",
   "metadata": {},
   "outputs": [
    {
     "name": "stdout",
     "output_type": "stream",
     "text": [
      "[['Economics, Nursing, Construction, Culinary, ']]\n",
      "which class would you like to select fromeconomics\n",
      "do you think that students payed more attention in the hands on or lecture based classes?\n",
      "enter 1 for hands on: otherwise 0 for lecture1\n"
     ]
    }
   ],
   "source": [
    "numOfStudents = [ [\"Economics, Nursing, Construction, Culinary, \"] \n",
    "                  [\"Hands off class\", \"fully focused\"]\n",
    "                  [\"hands off class \"]\n",
    "                   \n",
    "                \n",
    "                \n",
    "                ]\n",
    "print(numOfStudents)\n",
    "answer = input(\"which class would you like to select from\")\n",
    "\n",
    "if answer == \"economics \":\n",
    "    print(numOfStudents[len(numOfStudents) - 0])\n",
    "elif answer == \"culinary\":\n",
    "    print(numOfStudents[len(numOfStudents) - 1])\n",
    "elif answer == \"Construcion\":\n",
    "    print(numOfStudents[len(numOfStudents) - 2])\n",
    "\n",
    "calculate \n",
    "    \n",
    "    \n",
    "    \n",
    "    \n",
    "    \n",
    "    \n",
    "print(\"do you think that students payed more attention in the hands on or lecture based classes?\")\n",
    "\n",
    "counter = 3 \n",
    "\n",
    "enter = int(input(\"enter 1 for hands on: otherwise 0 for lecture\"))\n",
    "\n",
    "if enter == 1:\n",
    "    counter = counter + 1 "
   ]
  },
  {
   "cell_type": "code",
   "execution_count": null,
   "id": "6cc22df3",
   "metadata": {},
   "outputs": [],
   "source": []
  },
  {
   "cell_type": "code",
   "execution_count": null,
   "id": "43da6990",
   "metadata": {},
   "outputs": [],
   "source": []
  },
  {
   "cell_type": "code",
   "execution_count": null,
   "id": "5d90c849",
   "metadata": {},
   "outputs": [],
   "source": []
  }
 ],
 "metadata": {
  "kernelspec": {
   "display_name": "Python 3 (ipykernel)",
   "language": "python",
   "name": "python3"
  },
  "language_info": {
   "codemirror_mode": {
    "name": "ipython",
    "version": 3
   },
   "file_extension": ".py",
   "mimetype": "text/x-python",
   "name": "python",
   "nbconvert_exporter": "python",
   "pygments_lexer": "ipython3",
   "version": "3.9.12"
  }
 },
 "nbformat": 4,
 "nbformat_minor": 5
}
