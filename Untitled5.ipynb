{
 "cells": [
  {
   "cell_type": "code",
   "execution_count": 18,
   "id": "f44de569",
   "metadata": {},
   "outputs": [
    {
     "ename": "IndentationError",
     "evalue": "unexpected indent (1859043839.py, line 8)",
     "output_type": "error",
     "traceback": [
      "\u001b[1;36m  Input \u001b[1;32mIn [18]\u001b[1;36m\u001b[0m\n\u001b[1;33m    if(stage == [0][0])\u001b[0m\n\u001b[1;37m    ^\u001b[0m\n\u001b[1;31mIndentationError\u001b[0m\u001b[1;31m:\u001b[0m unexpected indent\n"
     ]
    }
   ],
   "source": [
    "\n",
    "\n",
    "\n",
    "#algorithm = row[userInput[stage[0][-1 -x]]         \n",
    "y = -1\n",
    "t = null\n",
    "for members in stage:\n",
    "    for row in members:\n",
    "        startingPos = [4][0]\n",
    "        stage[0 + y][0 + t]                 \n",
    "            if(stage == [0][0])\n",
    "                t = t + 1 \n",
    "                break   \n",
    "            if(see == algorithm < algorithm - 1 )\n",
    "                if(see)\n",
    "                    print(True)\n",
    "                else:\n",
    "                    print(False )\n",
    "                \n",
    "                \n",
    "            #tensorgorithm\n",
    "                                                \n",
    "                                                \n",
    "              "
   ]
  },
  {
   "cell_type": "code",
   "execution_count": null,
   "id": "b188c1aa",
   "metadata": {},
   "outputs": [],
   "source": []
  },
  {
   "cell_type": "code",
   "execution_count": null,
   "id": "1ccdb761",
   "metadata": {},
   "outputs": [],
   "source": []
  },
  {
   "cell_type": "code",
   "execution_count": null,
   "id": "79eee4ab",
   "metadata": {},
   "outputs": [],
   "source": []
  },
  {
   "cell_type": "code",
   "execution_count": null,
   "id": "dab007b7",
   "metadata": {},
   "outputs": [],
   "source": []
  }
 ],
 "metadata": {
  "kernelspec": {
   "display_name": "Python 3 (ipykernel)",
   "language": "python",
   "name": "python3"
  },
  "language_info": {
   "codemirror_mode": {
    "name": "ipython",
    "version": 3
   },
   "file_extension": ".py",
   "mimetype": "text/x-python",
   "name": "python",
   "nbconvert_exporter": "python",
   "pygments_lexer": "ipython3",
   "version": "3.9.12"
  }
 },
 "nbformat": 4,
 "nbformat_minor": 5
}
