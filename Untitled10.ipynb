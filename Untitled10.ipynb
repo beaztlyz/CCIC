{
 "cells": [
  {
   "cell_type": "code",
   "execution_count": 1,
   "id": "454e93f9",
   "metadata": {},
   "outputs": [
    {
     "name": "stdout",
     "output_type": "stream",
     "text": [
      "     Rank           Channel Info  Influence Score Followers Avg. Likes Posts  \\\n",
      "0       1            \\ncristiano               92    485.2m       8.7m  3.4k   \n",
      "1       2            kyliejenner               91    370.7m       8.2m  7.0k   \n",
      "2       3             \\nleomessi               90    363.9m       6.7m   915   \n",
      "3       4          \\nselenagomez               93    348.8m       6.1m  1.9k   \n",
      "4       5              \\ntherock               91    339.4m       1.8m  6.8k   \n",
      "..    ...                    ...              ...       ...        ...   ...   \n",
      "195   196  \\nkhabib_nurmagomedov               63     33.6m     680.6k  4.6k   \n",
      "196   197         \\ndanbilzerian               84     33.6m       2.2m  1.4k   \n",
      "197   198            \\nraisa6690               80     33.6m     227.8k  4.2k   \n",
      "198   199          \\nluansantana               79     33.5m     193.3k   865   \n",
      "199   200           \\nnancyajram               81     33.4m     382.5k  3.8k   \n",
      "\n",
      "     60-Day Eng Rate New Post Avg. Likes Total Likes Country Or Region  \n",
      "0              0.013                6.3m       29.1b             Spain  \n",
      "1              0.014                5.0m       57.4b     United States  \n",
      "2              0.010                3.5m        6.1b               NaN  \n",
      "3              0.005                1.7m       11.4b     United States  \n",
      "4              0.003              932.0k       12.6b     United States  \n",
      "..               ...                 ...         ...               ...  \n",
      "195            0.009              305.7k        3.1b            Russia  \n",
      "196            0.064                2.1m        3.0b            Canada  \n",
      "197            0.003              103.2k      955.9m         Indonesia  \n",
      "198            0.003               82.6k      167.2m            Brazil  \n",
      "199            0.004              128.2k        1.5b            France  \n",
      "\n",
      "[200 rows x 10 columns]\n",
      "<class 'pandas.core.frame.DataFrame'>\n",
      "RangeIndex: 200 entries, 0 to 199\n",
      "Data columns (total 10 columns):\n",
      " #   Column               Non-Null Count  Dtype  \n",
      "---  ------               --------------  -----  \n",
      " 0   Rank                 200 non-null    int64  \n",
      " 1   Channel Info         200 non-null    object \n",
      " 2   Influence Score      200 non-null    int64  \n",
      " 3   Followers            200 non-null    object \n",
      " 4   Avg. Likes           200 non-null    object \n",
      " 5   Posts                200 non-null    object \n",
      " 6   60-Day Eng Rate      200 non-null    float64\n",
      " 7   New Post Avg. Likes  200 non-null    object \n",
      " 8   Total Likes          200 non-null    object \n",
      " 9   Country Or Region    137 non-null    object \n",
      "dtypes: float64(1), int64(2), object(7)\n",
      "memory usage: 15.8+ KB\n"
     ]
    }
   ],
   "source": [
    "import pandas as pd\n",
    "import seaborn as sns \n",
    "\n",
    "df = pd.read_csv('Top_Influencers.csv')\n",
    "\n",
    "print(df)\n",
    "\n",
    "\n",
    "df.head()\n",
    "df.info()\n"
   ]
  },
  {
   "cell_type": "code",
   "execution_count": 2,
   "id": "02c98f4d",
   "metadata": {},
   "outputs": [],
   "source": [
    "df['Followers'] = df['Followers'].str.replace('m','')"
   ]
  },
  {
   "cell_type": "code",
   "execution_count": 3,
   "id": "57203cba",
   "metadata": {},
   "outputs": [],
   "source": [
    "df.head()\n",
    "\n",
    "df[\"Followers\"] = pd.to_numeric(df['Followers'], downcast=\"float\")"
   ]
  },
  {
   "cell_type": "code",
   "execution_count": 4,
   "id": "efc80811",
   "metadata": {},
   "outputs": [
    {
     "name": "stdout",
     "output_type": "stream",
     "text": [
      "     Rank           Channel Info  Influence Score   Followers Avg. Likes  \\\n",
      "0       1            \\ncristiano               92  485.200012       8.7m   \n",
      "1       2            kyliejenner               91  370.700012       8.2m   \n",
      "2       3             \\nleomessi               90  363.899994       6.7m   \n",
      "3       4          \\nselenagomez               93  348.799988       6.1m   \n",
      "4       5              \\ntherock               91  339.399994       1.8m   \n",
      "..    ...                    ...              ...         ...        ...   \n",
      "195   196  \\nkhabib_nurmagomedov               63   33.599998     680.6k   \n",
      "196   197         \\ndanbilzerian               84   33.599998       2.2m   \n",
      "197   198            \\nraisa6690               80   33.599998     227.8k   \n",
      "198   199          \\nluansantana               79   33.500000     193.3k   \n",
      "199   200           \\nnancyajram               81   33.400002     382.5k   \n",
      "\n",
      "    Posts  60-Day Eng Rate New Post Avg. Likes Total Likes Country Or Region  \n",
      "0    3.4k            0.013                6.3m       29.1b             Spain  \n",
      "1    7.0k            0.014                5.0m       57.4b     United States  \n",
      "2     915            0.010                3.5m        6.1b               NaN  \n",
      "3    1.9k            0.005                1.7m       11.4b     United States  \n",
      "4    6.8k            0.003              932.0k       12.6b     United States  \n",
      "..    ...              ...                 ...         ...               ...  \n",
      "195  4.6k            0.009              305.7k        3.1b            Russia  \n",
      "196  1.4k            0.064                2.1m        3.0b            Canada  \n",
      "197  4.2k            0.003              103.2k      955.9m         Indonesia  \n",
      "198   865            0.003               82.6k      167.2m            Brazil  \n",
      "199  3.8k            0.004              128.2k        1.5b            France  \n",
      "\n",
      "[200 rows x 10 columns]\n",
      "<class 'pandas.core.frame.DataFrame'>\n",
      "RangeIndex: 200 entries, 0 to 199\n",
      "Data columns (total 10 columns):\n",
      " #   Column               Non-Null Count  Dtype  \n",
      "---  ------               --------------  -----  \n",
      " 0   Rank                 200 non-null    int64  \n",
      " 1   Channel Info         200 non-null    object \n",
      " 2   Influence Score      200 non-null    int64  \n",
      " 3   Followers            200 non-null    float32\n",
      " 4   Avg. Likes           200 non-null    object \n",
      " 5   Posts                200 non-null    object \n",
      " 6   60-Day Eng Rate      200 non-null    float64\n",
      " 7   New Post Avg. Likes  200 non-null    object \n",
      " 8   Total Likes          200 non-null    object \n",
      " 9   Country Or Region    137 non-null    object \n",
      "dtypes: float32(1), float64(1), int64(2), object(6)\n",
      "memory usage: 15.0+ KB\n"
     ]
    }
   ],
   "source": [
    "print(df)\n",
    "\n",
    "11\n",
    "df.head()\n",
    "\n",
    "df.info()"
   ]
  },
  {
   "cell_type": "code",
   "execution_count": 6,
   "id": "3057ab51",
   "metadata": {},
   "outputs": [
    {
     "ename": "NameError",
     "evalue": "name 'Followers' is not defined",
     "output_type": "error",
     "traceback": [
      "\u001b[1;31m---------------------------------------------------------------------------\u001b[0m",
      "\u001b[1;31mNameError\u001b[0m                                 Traceback (most recent call last)",
      "Input \u001b[1;32mIn [6]\u001b[0m, in \u001b[0;36m<cell line: 1>\u001b[1;34m()\u001b[0m\n\u001b[1;32m----> 1\u001b[0m \u001b[38;5;28;01mfor\u001b[39;00m df \u001b[38;5;129;01min\u001b[39;00m \u001b[38;5;28mrange\u001b[39m(\u001b[38;5;241m0\u001b[39m, \u001b[43mFollowers\u001b[49m ):\n\u001b[0;32m      2\u001b[0m     Followers[x] \u001b[38;5;241m*\u001b[39m \u001b[38;5;241m1000000\u001b[39m\n\u001b[0;32m      3\u001b[0m     \u001b[38;5;28mprint\u001b[39m(followers[x])\n",
      "\u001b[1;31mNameError\u001b[0m: name 'Followers' is not defined"
     ]
    }
   ],
   "source": [
    "for i in range(0, Followers ):\n",
    "    Followers[x] * 1000000\n",
    "    print(followers[x])\n",
    "print(df)\n",
    "\n",
    "\n",
    "\n",
    "te\n",
    "\n",
    "\n",
    "df.plot( y = \"Followers \", \")"
   ]
  },
  {
   "cell_type": "code",
   "execution_count": null,
   "id": "67b04fc3",
   "metadata": {},
   "outputs": [],
   "source": [
    "\n"
   ]
  },
  {
   "cell_type": "code",
   "execution_count": null,
   "id": "f9c83534",
   "metadata": {},
   "outputs": [],
   "source": []
  }
 ],
 "metadata": {
  "kernelspec": {
   "display_name": "Python 3 (ipykernel)",
   "language": "python",
   "name": "python3"
  },
  "language_info": {
   "codemirror_mode": {
    "name": "ipython",
    "version": 3
   },
   "file_extension": ".py",
   "mimetype": "text/x-python",
   "name": "python",
   "nbconvert_exporter": "python",
   "pygments_lexer": "ipython3",
   "version": "3.9.12"
  }
 },
 "nbformat": 4,
 "nbformat_minor": 5
}
