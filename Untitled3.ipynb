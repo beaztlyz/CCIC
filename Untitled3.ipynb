{
 "cells": [
  {
   "cell_type": "code",
   "execution_count": null,
   "id": "a1e25fa2",
   "metadata": {},
   "outputs": [],
   "source": [
    "\n",
    "daysOfWeek = {\"monday\" : \"homeowrk\",\n",
    "              \"tuesday\" : \" homework\",\n",
    "              \"wensday\" : \"HOEOWRK\",\n",
    "              \"thursday\" : \"homework\",\n",
    "              \"frieday\" : \"homeowork\"\n",
    "               \"saturday\" : \"game\"\n",
    "                \"sunday\" : \"game\" }\n",
    "\n",
    "whatDay = (input(\"what day do you want to do today\"))\n",
    "print(daysOfWeek[whatDay])\n",
    "\n",
    "\n",
    "\n",
    "\n",
    "\n",
    "\n",
    "\n",
    "\n",
    "\n",
    "table = {\"Date\" : [\" 2001-08-01, 02, 03, 04, 05, 06, 07, 08\"],\n",
    "         \"Dayname\" : [\" Wenesday, Thursday, Friday, Saturday, Sunday, Monday, Wendsday \"],\n",
    "         \"Red\" : [87,],\n",
    "         \"Blue\" : [89], \n",
    "         \"Green\" : [1]}\n",
    "\n",
    "\n",
    "\n"
   ]
  }
 ],
 "metadata": {
  "kernelspec": {
   "display_name": "Python 3 (ipykernel)",
   "language": "python",
   "name": "python3"
  },
  "language_info": {
   "codemirror_mode": {
    "name": "ipython",
    "version": 3
   },
   "file_extension": ".py",
   "mimetype": "text/x-python",
   "name": "python",
   "nbconvert_exporter": "python",
   "pygments_lexer": "ipython3",
   "version": "3.9.12"
  }
 },
 "nbformat": 4,
 "nbformat_minor": 5
}
